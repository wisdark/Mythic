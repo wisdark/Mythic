{
 "cells": [
  {
   "cell_type": "code",
   "execution_count": null,
   "id": "63e041c5-6f68-4767-a0dd-bf4fb247b75c",
   "metadata": {},
   "outputs": [],
   "source": [
    "## Goes with the cronEventing.yml file"
   ]
  },
  {
   "cell_type": "code",
   "execution_count": null,
   "id": "afdddf5e-ad2d-4f51-addc-e7ab61fec848",
   "metadata": {},
   "outputs": [],
   "source": [
    "from mythic import mythic"
   ]
  },
  {
   "cell_type": "code",
   "execution_count": null,
   "id": "93e4ee9f-0d88-41de-b95f-03b2e8651c4c",
   "metadata": {},
   "outputs": [],
   "source": [
    "mythic_instance = await mythic.login(\n",
    "        username=\"mythic_admin\",\n",
    "        password=\"mythic_password\",\n",
    "        server_ip=\"mythic_nginx\",\n",
    "        server_port=7443,\n",
    "        timeout=-1\n",
    "    )"
   ]
  },
  {
   "cell_type": "code",
   "execution_count": null,
   "id": "0d594079-8054-4c35-af4e-d9e14759bf5a",
   "metadata": {},
   "outputs": [],
   "source": [
    "### trigger: cron\n",
    "\n",
    "#trigger: cron\n",
    "#trigger_data:\n",
    "#  cron: \"* * * * *\"  <-- specify the standard cron format for when to execute this workflow"
   ]
  },
  {
   "cell_type": "code",
   "execution_count": null,
   "id": "d3c7f5b7-5f18-4170-9316-6c6b1743798c",
   "metadata": {},
   "outputs": [],
   "source": [
    "### action: payload_create\n",
    "\n",
    "#    name: \"apollo bin\"\n",
    "#    description: \"generate shellcode\"\n",
    "#    action: \"payload_create\"\n",
    "#    action_data:\n",
    "#      payload_type: \"apollo\"\n",
    "#      description: \"apollo test payload shellcode\"\n",
    "#      selected_os: \"Windows\"\n",
    "#      build_parameters:\n",
    "#      - name: \"output_type\"\n",
    "#        value: \"Shellcode\"\n",
    "#      filename: \"apollo.bin\"\n",
    "#      c2_profiles:\n",
    "#      - c2_profile: \"websocket\"\n",
    "#        c2_profile_parameters:\n",
    "#          AESPSK: \"aes256_hmac\"\n",
    "#          callback_host: \"ws://192.168.0.118\"\n",
    "#          tasking_type: \"Push\"\n",
    "#      commands:\n",
    "#      - shell\n",
    "#      - exit\n",
    "#      - load\n",
    "#    outputs:\n",
    "#      PayloadUUID: \"uuid\""
   ]
  }
 ],
 "metadata": {
  "kernelspec": {
   "display_name": "Python 3 (ipykernel)",
   "language": "python",
   "name": "python3"
  },
  "language_info": {
   "codemirror_mode": {
    "name": "ipython",
    "version": 3
   },
   "file_extension": ".py",
   "mimetype": "text/x-python",
   "name": "python",
   "nbconvert_exporter": "python",
   "pygments_lexer": "ipython3",
   "version": "3.11.6"
  }
 },
 "nbformat": 4,
 "nbformat_minor": 5
}
